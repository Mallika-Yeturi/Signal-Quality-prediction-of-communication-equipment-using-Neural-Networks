{
 "cells": [
  {
   "cell_type": "code",
   "execution_count": 2,
   "id": "af42498a",
   "metadata": {},
   "outputs": [
    {
     "name": "stderr",
     "output_type": "stream",
     "text": [
      "C:\\Users\\Mallika Yeturi\\anaconda3\\lib\\site-packages\\scipy\\__init__.py:146: UserWarning: A NumPy version >=1.16.5 and <1.23.0 is required for this version of SciPy (detected version 1.24.3\n",
      "  warnings.warn(f\"A NumPy version >={np_minversion} and <{np_maxversion}\"\n"
     ]
    }
   ],
   "source": [
    "import numpy as np\n",
    "import pandas as pd\n",
    "import seaborn as sns\n",
    "import scipy.stats as stats \n",
    "import matplotlib.pyplot as plt\n",
    "from tensorflow import keras\n",
    "#from keras.models import Sequential\n",
    "#from keras.layers import Dense\n",
    "#from sklearn.model_selection import StratifiedKFold\n",
    "%matplotlib inline\n",
    "#Test Train Split\n",
    "from sklearn.model_selection import train_test_split\n",
    "#Feature Scaling library\n",
    "from sklearn.preprocessing import StandardScaler\n",
    "#import pickle\n",
    "from tensorflow.keras.utils import to_categorical\n",
    "from tensorflow.keras.models import Sequential\n",
    "from tensorflow.keras.layers import Flatten, Dense\n",
    "from tensorflow.keras import regularizers, optimizers\n",
    "from sklearn.metrics import r2_score\n",
    "from tensorflow.keras.models import load_model\n",
    "import tensorflow as tf\n"
   ]
  },
  {
   "cell_type": "code",
   "execution_count": 2,
   "id": "4c0c5652",
   "metadata": {},
   "outputs": [],
   "source": [
    "# Initialize the random number generator\n",
    "import random\n",
    "seed = 7\n",
    "np.random.seed(seed)\n",
    "\n",
    "# Ignore the warnings\n",
    "import warnings\n",
    "warnings.filterwarnings(\"ignore\")"
   ]
  },
  {
   "cell_type": "code",
   "execution_count": 3,
   "id": "a595f0da",
   "metadata": {},
   "outputs": [
    {
     "data": {
      "text/html": [
       "<div>\n",
       "<style scoped>\n",
       "    .dataframe tbody tr th:only-of-type {\n",
       "        vertical-align: middle;\n",
       "    }\n",
       "\n",
       "    .dataframe tbody tr th {\n",
       "        vertical-align: top;\n",
       "    }\n",
       "\n",
       "    .dataframe thead th {\n",
       "        text-align: right;\n",
       "    }\n",
       "</style>\n",
       "<table border=\"1\" class=\"dataframe\">\n",
       "  <thead>\n",
       "    <tr style=\"text-align: right;\">\n",
       "      <th></th>\n",
       "      <th>Parameter 1</th>\n",
       "      <th>Parameter 2</th>\n",
       "      <th>Parameter 3</th>\n",
       "      <th>Parameter 4</th>\n",
       "      <th>Parameter 5</th>\n",
       "      <th>Parameter 6</th>\n",
       "      <th>Parameter 7</th>\n",
       "      <th>Parameter 8</th>\n",
       "      <th>Parameter 9</th>\n",
       "      <th>Parameter 10</th>\n",
       "      <th>Parameter 11</th>\n",
       "      <th>Signal_Strength</th>\n",
       "    </tr>\n",
       "  </thead>\n",
       "  <tbody>\n",
       "    <tr>\n",
       "      <th>0</th>\n",
       "      <td>7.4</td>\n",
       "      <td>0.700</td>\n",
       "      <td>0.00</td>\n",
       "      <td>1.9</td>\n",
       "      <td>0.076</td>\n",
       "      <td>11.0</td>\n",
       "      <td>34.0</td>\n",
       "      <td>0.9978</td>\n",
       "      <td>3.51</td>\n",
       "      <td>0.56</td>\n",
       "      <td>9.4</td>\n",
       "      <td>5</td>\n",
       "    </tr>\n",
       "    <tr>\n",
       "      <th>1</th>\n",
       "      <td>7.8</td>\n",
       "      <td>0.880</td>\n",
       "      <td>0.00</td>\n",
       "      <td>2.6</td>\n",
       "      <td>0.098</td>\n",
       "      <td>25.0</td>\n",
       "      <td>67.0</td>\n",
       "      <td>0.9968</td>\n",
       "      <td>3.20</td>\n",
       "      <td>0.68</td>\n",
       "      <td>9.8</td>\n",
       "      <td>5</td>\n",
       "    </tr>\n",
       "    <tr>\n",
       "      <th>2</th>\n",
       "      <td>7.8</td>\n",
       "      <td>0.760</td>\n",
       "      <td>0.04</td>\n",
       "      <td>2.3</td>\n",
       "      <td>0.092</td>\n",
       "      <td>15.0</td>\n",
       "      <td>54.0</td>\n",
       "      <td>0.9970</td>\n",
       "      <td>3.26</td>\n",
       "      <td>0.65</td>\n",
       "      <td>9.8</td>\n",
       "      <td>5</td>\n",
       "    </tr>\n",
       "    <tr>\n",
       "      <th>3</th>\n",
       "      <td>11.2</td>\n",
       "      <td>0.280</td>\n",
       "      <td>0.56</td>\n",
       "      <td>1.9</td>\n",
       "      <td>0.075</td>\n",
       "      <td>17.0</td>\n",
       "      <td>60.0</td>\n",
       "      <td>0.9980</td>\n",
       "      <td>3.16</td>\n",
       "      <td>0.58</td>\n",
       "      <td>9.8</td>\n",
       "      <td>6</td>\n",
       "    </tr>\n",
       "    <tr>\n",
       "      <th>4</th>\n",
       "      <td>7.4</td>\n",
       "      <td>0.700</td>\n",
       "      <td>0.00</td>\n",
       "      <td>1.9</td>\n",
       "      <td>0.076</td>\n",
       "      <td>11.0</td>\n",
       "      <td>34.0</td>\n",
       "      <td>0.9978</td>\n",
       "      <td>3.51</td>\n",
       "      <td>0.56</td>\n",
       "      <td>9.4</td>\n",
       "      <td>5</td>\n",
       "    </tr>\n",
       "    <tr>\n",
       "      <th>5</th>\n",
       "      <td>7.4</td>\n",
       "      <td>0.660</td>\n",
       "      <td>0.00</td>\n",
       "      <td>1.8</td>\n",
       "      <td>0.075</td>\n",
       "      <td>13.0</td>\n",
       "      <td>40.0</td>\n",
       "      <td>0.9978</td>\n",
       "      <td>3.51</td>\n",
       "      <td>0.56</td>\n",
       "      <td>9.4</td>\n",
       "      <td>5</td>\n",
       "    </tr>\n",
       "    <tr>\n",
       "      <th>6</th>\n",
       "      <td>7.9</td>\n",
       "      <td>0.600</td>\n",
       "      <td>0.06</td>\n",
       "      <td>1.6</td>\n",
       "      <td>0.069</td>\n",
       "      <td>15.0</td>\n",
       "      <td>59.0</td>\n",
       "      <td>0.9964</td>\n",
       "      <td>3.30</td>\n",
       "      <td>0.46</td>\n",
       "      <td>9.4</td>\n",
       "      <td>5</td>\n",
       "    </tr>\n",
       "    <tr>\n",
       "      <th>7</th>\n",
       "      <td>7.3</td>\n",
       "      <td>0.650</td>\n",
       "      <td>0.00</td>\n",
       "      <td>1.2</td>\n",
       "      <td>0.065</td>\n",
       "      <td>15.0</td>\n",
       "      <td>21.0</td>\n",
       "      <td>0.9946</td>\n",
       "      <td>3.39</td>\n",
       "      <td>0.47</td>\n",
       "      <td>10.0</td>\n",
       "      <td>7</td>\n",
       "    </tr>\n",
       "    <tr>\n",
       "      <th>8</th>\n",
       "      <td>7.8</td>\n",
       "      <td>0.580</td>\n",
       "      <td>0.02</td>\n",
       "      <td>2.0</td>\n",
       "      <td>0.073</td>\n",
       "      <td>9.0</td>\n",
       "      <td>18.0</td>\n",
       "      <td>0.9968</td>\n",
       "      <td>3.36</td>\n",
       "      <td>0.57</td>\n",
       "      <td>9.5</td>\n",
       "      <td>7</td>\n",
       "    </tr>\n",
       "    <tr>\n",
       "      <th>9</th>\n",
       "      <td>7.5</td>\n",
       "      <td>0.500</td>\n",
       "      <td>0.36</td>\n",
       "      <td>6.1</td>\n",
       "      <td>0.071</td>\n",
       "      <td>17.0</td>\n",
       "      <td>102.0</td>\n",
       "      <td>0.9978</td>\n",
       "      <td>3.35</td>\n",
       "      <td>0.80</td>\n",
       "      <td>10.5</td>\n",
       "      <td>5</td>\n",
       "    </tr>\n",
       "    <tr>\n",
       "      <th>10</th>\n",
       "      <td>6.7</td>\n",
       "      <td>0.580</td>\n",
       "      <td>0.08</td>\n",
       "      <td>1.8</td>\n",
       "      <td>0.097</td>\n",
       "      <td>15.0</td>\n",
       "      <td>65.0</td>\n",
       "      <td>0.9959</td>\n",
       "      <td>3.28</td>\n",
       "      <td>0.54</td>\n",
       "      <td>9.2</td>\n",
       "      <td>5</td>\n",
       "    </tr>\n",
       "    <tr>\n",
       "      <th>11</th>\n",
       "      <td>7.5</td>\n",
       "      <td>0.500</td>\n",
       "      <td>0.36</td>\n",
       "      <td>6.1</td>\n",
       "      <td>0.071</td>\n",
       "      <td>17.0</td>\n",
       "      <td>102.0</td>\n",
       "      <td>0.9978</td>\n",
       "      <td>3.35</td>\n",
       "      <td>0.80</td>\n",
       "      <td>10.5</td>\n",
       "      <td>5</td>\n",
       "    </tr>\n",
       "    <tr>\n",
       "      <th>12</th>\n",
       "      <td>5.6</td>\n",
       "      <td>0.615</td>\n",
       "      <td>0.00</td>\n",
       "      <td>1.6</td>\n",
       "      <td>0.089</td>\n",
       "      <td>16.0</td>\n",
       "      <td>59.0</td>\n",
       "      <td>0.9943</td>\n",
       "      <td>3.58</td>\n",
       "      <td>0.52</td>\n",
       "      <td>9.9</td>\n",
       "      <td>5</td>\n",
       "    </tr>\n",
       "    <tr>\n",
       "      <th>13</th>\n",
       "      <td>7.8</td>\n",
       "      <td>0.610</td>\n",
       "      <td>0.29</td>\n",
       "      <td>1.6</td>\n",
       "      <td>0.114</td>\n",
       "      <td>9.0</td>\n",
       "      <td>29.0</td>\n",
       "      <td>0.9974</td>\n",
       "      <td>3.26</td>\n",
       "      <td>1.56</td>\n",
       "      <td>9.1</td>\n",
       "      <td>5</td>\n",
       "    </tr>\n",
       "    <tr>\n",
       "      <th>14</th>\n",
       "      <td>8.9</td>\n",
       "      <td>0.620</td>\n",
       "      <td>0.18</td>\n",
       "      <td>3.8</td>\n",
       "      <td>0.176</td>\n",
       "      <td>52.0</td>\n",
       "      <td>145.0</td>\n",
       "      <td>0.9986</td>\n",
       "      <td>3.16</td>\n",
       "      <td>0.88</td>\n",
       "      <td>9.2</td>\n",
       "      <td>5</td>\n",
       "    </tr>\n",
       "    <tr>\n",
       "      <th>15</th>\n",
       "      <td>8.9</td>\n",
       "      <td>0.620</td>\n",
       "      <td>0.19</td>\n",
       "      <td>3.9</td>\n",
       "      <td>0.170</td>\n",
       "      <td>51.0</td>\n",
       "      <td>148.0</td>\n",
       "      <td>0.9986</td>\n",
       "      <td>3.17</td>\n",
       "      <td>0.93</td>\n",
       "      <td>9.2</td>\n",
       "      <td>5</td>\n",
       "    </tr>\n",
       "    <tr>\n",
       "      <th>16</th>\n",
       "      <td>8.5</td>\n",
       "      <td>0.280</td>\n",
       "      <td>0.56</td>\n",
       "      <td>1.8</td>\n",
       "      <td>0.092</td>\n",
       "      <td>35.0</td>\n",
       "      <td>103.0</td>\n",
       "      <td>0.9969</td>\n",
       "      <td>3.30</td>\n",
       "      <td>0.75</td>\n",
       "      <td>10.5</td>\n",
       "      <td>7</td>\n",
       "    </tr>\n",
       "    <tr>\n",
       "      <th>17</th>\n",
       "      <td>8.1</td>\n",
       "      <td>0.560</td>\n",
       "      <td>0.28</td>\n",
       "      <td>1.7</td>\n",
       "      <td>0.368</td>\n",
       "      <td>16.0</td>\n",
       "      <td>56.0</td>\n",
       "      <td>0.9968</td>\n",
       "      <td>3.11</td>\n",
       "      <td>1.28</td>\n",
       "      <td>9.3</td>\n",
       "      <td>5</td>\n",
       "    </tr>\n",
       "    <tr>\n",
       "      <th>18</th>\n",
       "      <td>7.4</td>\n",
       "      <td>0.590</td>\n",
       "      <td>0.08</td>\n",
       "      <td>4.4</td>\n",
       "      <td>0.086</td>\n",
       "      <td>6.0</td>\n",
       "      <td>29.0</td>\n",
       "      <td>0.9974</td>\n",
       "      <td>3.38</td>\n",
       "      <td>0.50</td>\n",
       "      <td>9.0</td>\n",
       "      <td>4</td>\n",
       "    </tr>\n",
       "    <tr>\n",
       "      <th>19</th>\n",
       "      <td>7.9</td>\n",
       "      <td>0.320</td>\n",
       "      <td>0.51</td>\n",
       "      <td>1.8</td>\n",
       "      <td>0.341</td>\n",
       "      <td>17.0</td>\n",
       "      <td>56.0</td>\n",
       "      <td>0.9969</td>\n",
       "      <td>3.04</td>\n",
       "      <td>1.08</td>\n",
       "      <td>9.2</td>\n",
       "      <td>6</td>\n",
       "    </tr>\n",
       "  </tbody>\n",
       "</table>\n",
       "</div>"
      ],
      "text/plain": [
       "    Parameter 1  Parameter 2  Parameter 3  Parameter 4  Parameter 5  \\\n",
       "0           7.4        0.700         0.00          1.9        0.076   \n",
       "1           7.8        0.880         0.00          2.6        0.098   \n",
       "2           7.8        0.760         0.04          2.3        0.092   \n",
       "3          11.2        0.280         0.56          1.9        0.075   \n",
       "4           7.4        0.700         0.00          1.9        0.076   \n",
       "5           7.4        0.660         0.00          1.8        0.075   \n",
       "6           7.9        0.600         0.06          1.6        0.069   \n",
       "7           7.3        0.650         0.00          1.2        0.065   \n",
       "8           7.8        0.580         0.02          2.0        0.073   \n",
       "9           7.5        0.500         0.36          6.1        0.071   \n",
       "10          6.7        0.580         0.08          1.8        0.097   \n",
       "11          7.5        0.500         0.36          6.1        0.071   \n",
       "12          5.6        0.615         0.00          1.6        0.089   \n",
       "13          7.8        0.610         0.29          1.6        0.114   \n",
       "14          8.9        0.620         0.18          3.8        0.176   \n",
       "15          8.9        0.620         0.19          3.9        0.170   \n",
       "16          8.5        0.280         0.56          1.8        0.092   \n",
       "17          8.1        0.560         0.28          1.7        0.368   \n",
       "18          7.4        0.590         0.08          4.4        0.086   \n",
       "19          7.9        0.320         0.51          1.8        0.341   \n",
       "\n",
       "    Parameter 6  Parameter 7  Parameter 8  Parameter 9  Parameter 10  \\\n",
       "0          11.0         34.0       0.9978         3.51          0.56   \n",
       "1          25.0         67.0       0.9968         3.20          0.68   \n",
       "2          15.0         54.0       0.9970         3.26          0.65   \n",
       "3          17.0         60.0       0.9980         3.16          0.58   \n",
       "4          11.0         34.0       0.9978         3.51          0.56   \n",
       "5          13.0         40.0       0.9978         3.51          0.56   \n",
       "6          15.0         59.0       0.9964         3.30          0.46   \n",
       "7          15.0         21.0       0.9946         3.39          0.47   \n",
       "8           9.0         18.0       0.9968         3.36          0.57   \n",
       "9          17.0        102.0       0.9978         3.35          0.80   \n",
       "10         15.0         65.0       0.9959         3.28          0.54   \n",
       "11         17.0        102.0       0.9978         3.35          0.80   \n",
       "12         16.0         59.0       0.9943         3.58          0.52   \n",
       "13          9.0         29.0       0.9974         3.26          1.56   \n",
       "14         52.0        145.0       0.9986         3.16          0.88   \n",
       "15         51.0        148.0       0.9986         3.17          0.93   \n",
       "16         35.0        103.0       0.9969         3.30          0.75   \n",
       "17         16.0         56.0       0.9968         3.11          1.28   \n",
       "18          6.0         29.0       0.9974         3.38          0.50   \n",
       "19         17.0         56.0       0.9969         3.04          1.08   \n",
       "\n",
       "    Parameter 11  Signal_Strength  \n",
       "0            9.4                5  \n",
       "1            9.8                5  \n",
       "2            9.8                5  \n",
       "3            9.8                6  \n",
       "4            9.4                5  \n",
       "5            9.4                5  \n",
       "6            9.4                5  \n",
       "7           10.0                7  \n",
       "8            9.5                7  \n",
       "9           10.5                5  \n",
       "10           9.2                5  \n",
       "11          10.5                5  \n",
       "12           9.9                5  \n",
       "13           9.1                5  \n",
       "14           9.2                5  \n",
       "15           9.2                5  \n",
       "16          10.5                7  \n",
       "17           9.3                5  \n",
       "18           9.0                4  \n",
       "19           9.2                6  "
      ]
     },
     "execution_count": 3,
     "metadata": {},
     "output_type": "execute_result"
    }
   ],
   "source": [
    "mydata=pd.read_csv(r'C:\\Users\\Mallika Yeturi\\Downloads\\Signal.csv')\n",
    "mydata.head(20)"
   ]
  },
  {
   "cell_type": "code",
   "execution_count": 4,
   "id": "1dbc4a14",
   "metadata": {},
   "outputs": [
    {
     "data": {
      "text/plain": [
       "(1599, 12)"
      ]
     },
     "execution_count": 4,
     "metadata": {},
     "output_type": "execute_result"
    }
   ],
   "source": [
    "mydata.shape"
   ]
  },
  {
   "cell_type": "code",
   "execution_count": 5,
   "id": "e4a6f297",
   "metadata": {},
   "outputs": [
    {
     "name": "stdout",
     "output_type": "stream",
     "text": [
      "<class 'pandas.core.frame.DataFrame'>\n",
      "RangeIndex: 1599 entries, 0 to 1598\n",
      "Data columns (total 12 columns):\n",
      " #   Column           Non-Null Count  Dtype  \n",
      "---  ------           --------------  -----  \n",
      " 0   Parameter 1      1599 non-null   float64\n",
      " 1   Parameter 2      1599 non-null   float64\n",
      " 2   Parameter 3      1599 non-null   float64\n",
      " 3   Parameter 4      1599 non-null   float64\n",
      " 4   Parameter 5      1599 non-null   float64\n",
      " 5   Parameter 6      1599 non-null   float64\n",
      " 6   Parameter 7      1599 non-null   float64\n",
      " 7   Parameter 8      1599 non-null   float64\n",
      " 8   Parameter 9      1599 non-null   float64\n",
      " 9   Parameter 10     1599 non-null   float64\n",
      " 10  Parameter 11     1599 non-null   float64\n",
      " 11  Signal_Strength  1599 non-null   int64  \n",
      "dtypes: float64(11), int64(1)\n",
      "memory usage: 150.0 KB\n"
     ]
    }
   ],
   "source": [
    "mydata.info()"
   ]
  },
  {
   "cell_type": "code",
   "execution_count": 6,
   "id": "41625583",
   "metadata": {},
   "outputs": [
    {
     "name": "stdout",
     "output_type": "stream",
     "text": [
      "Parameter 1        0\n",
      "Parameter 2        0\n",
      "Parameter 3        0\n",
      "Parameter 4        0\n",
      "Parameter 5        0\n",
      "Parameter 6        0\n",
      "Parameter 7        0\n",
      "Parameter 8        0\n",
      "Parameter 9        0\n",
      "Parameter 10       0\n",
      "Parameter 11       0\n",
      "Signal_Strength    0\n",
      "dtype: int64\n"
     ]
    }
   ],
   "source": [
    "null_counts = mydata.isnull().sum()  # This prints the columns with the number of null values they have\n",
    "print (null_counts)"
   ]
  },
  {
   "cell_type": "code",
   "execution_count": 7,
   "id": "7db40238",
   "metadata": {},
   "outputs": [
    {
     "data": {
      "text/html": [
       "<div>\n",
       "<style scoped>\n",
       "    .dataframe tbody tr th:only-of-type {\n",
       "        vertical-align: middle;\n",
       "    }\n",
       "\n",
       "    .dataframe tbody tr th {\n",
       "        vertical-align: top;\n",
       "    }\n",
       "\n",
       "    .dataframe thead th {\n",
       "        text-align: right;\n",
       "    }\n",
       "</style>\n",
       "<table border=\"1\" class=\"dataframe\">\n",
       "  <thead>\n",
       "    <tr style=\"text-align: right;\">\n",
       "      <th></th>\n",
       "      <th>Parameter 1</th>\n",
       "      <th>Parameter 2</th>\n",
       "      <th>Parameter 3</th>\n",
       "      <th>Parameter 4</th>\n",
       "      <th>Parameter 5</th>\n",
       "      <th>Parameter 6</th>\n",
       "      <th>Parameter 7</th>\n",
       "      <th>Parameter 8</th>\n",
       "      <th>Parameter 9</th>\n",
       "      <th>Parameter 10</th>\n",
       "      <th>Parameter 11</th>\n",
       "      <th>Signal_Strength</th>\n",
       "    </tr>\n",
       "  </thead>\n",
       "  <tbody>\n",
       "    <tr>\n",
       "      <th>count</th>\n",
       "      <td>1599.000000</td>\n",
       "      <td>1599.000000</td>\n",
       "      <td>1599.000000</td>\n",
       "      <td>1599.000000</td>\n",
       "      <td>1599.000000</td>\n",
       "      <td>1599.000000</td>\n",
       "      <td>1599.000000</td>\n",
       "      <td>1599.000000</td>\n",
       "      <td>1599.000000</td>\n",
       "      <td>1599.000000</td>\n",
       "      <td>1599.000000</td>\n",
       "      <td>1599.000000</td>\n",
       "    </tr>\n",
       "    <tr>\n",
       "      <th>mean</th>\n",
       "      <td>8.319637</td>\n",
       "      <td>0.527821</td>\n",
       "      <td>0.270976</td>\n",
       "      <td>2.538806</td>\n",
       "      <td>0.087467</td>\n",
       "      <td>15.874922</td>\n",
       "      <td>46.467792</td>\n",
       "      <td>0.996747</td>\n",
       "      <td>3.311113</td>\n",
       "      <td>0.658149</td>\n",
       "      <td>10.422983</td>\n",
       "      <td>5.636023</td>\n",
       "    </tr>\n",
       "    <tr>\n",
       "      <th>std</th>\n",
       "      <td>1.741096</td>\n",
       "      <td>0.179060</td>\n",
       "      <td>0.194801</td>\n",
       "      <td>1.409928</td>\n",
       "      <td>0.047065</td>\n",
       "      <td>10.460157</td>\n",
       "      <td>32.895324</td>\n",
       "      <td>0.001887</td>\n",
       "      <td>0.154386</td>\n",
       "      <td>0.169507</td>\n",
       "      <td>1.065668</td>\n",
       "      <td>0.807569</td>\n",
       "    </tr>\n",
       "    <tr>\n",
       "      <th>min</th>\n",
       "      <td>4.600000</td>\n",
       "      <td>0.120000</td>\n",
       "      <td>0.000000</td>\n",
       "      <td>0.900000</td>\n",
       "      <td>0.012000</td>\n",
       "      <td>1.000000</td>\n",
       "      <td>6.000000</td>\n",
       "      <td>0.990070</td>\n",
       "      <td>2.740000</td>\n",
       "      <td>0.330000</td>\n",
       "      <td>8.400000</td>\n",
       "      <td>3.000000</td>\n",
       "    </tr>\n",
       "    <tr>\n",
       "      <th>25%</th>\n",
       "      <td>7.100000</td>\n",
       "      <td>0.390000</td>\n",
       "      <td>0.090000</td>\n",
       "      <td>1.900000</td>\n",
       "      <td>0.070000</td>\n",
       "      <td>7.000000</td>\n",
       "      <td>22.000000</td>\n",
       "      <td>0.995600</td>\n",
       "      <td>3.210000</td>\n",
       "      <td>0.550000</td>\n",
       "      <td>9.500000</td>\n",
       "      <td>5.000000</td>\n",
       "    </tr>\n",
       "    <tr>\n",
       "      <th>50%</th>\n",
       "      <td>7.900000</td>\n",
       "      <td>0.520000</td>\n",
       "      <td>0.260000</td>\n",
       "      <td>2.200000</td>\n",
       "      <td>0.079000</td>\n",
       "      <td>14.000000</td>\n",
       "      <td>38.000000</td>\n",
       "      <td>0.996750</td>\n",
       "      <td>3.310000</td>\n",
       "      <td>0.620000</td>\n",
       "      <td>10.200000</td>\n",
       "      <td>6.000000</td>\n",
       "    </tr>\n",
       "    <tr>\n",
       "      <th>75%</th>\n",
       "      <td>9.200000</td>\n",
       "      <td>0.640000</td>\n",
       "      <td>0.420000</td>\n",
       "      <td>2.600000</td>\n",
       "      <td>0.090000</td>\n",
       "      <td>21.000000</td>\n",
       "      <td>62.000000</td>\n",
       "      <td>0.997835</td>\n",
       "      <td>3.400000</td>\n",
       "      <td>0.730000</td>\n",
       "      <td>11.100000</td>\n",
       "      <td>6.000000</td>\n",
       "    </tr>\n",
       "    <tr>\n",
       "      <th>max</th>\n",
       "      <td>15.900000</td>\n",
       "      <td>1.580000</td>\n",
       "      <td>1.000000</td>\n",
       "      <td>15.500000</td>\n",
       "      <td>0.611000</td>\n",
       "      <td>72.000000</td>\n",
       "      <td>289.000000</td>\n",
       "      <td>1.003690</td>\n",
       "      <td>4.010000</td>\n",
       "      <td>2.000000</td>\n",
       "      <td>14.900000</td>\n",
       "      <td>8.000000</td>\n",
       "    </tr>\n",
       "  </tbody>\n",
       "</table>\n",
       "</div>"
      ],
      "text/plain": [
       "       Parameter 1  Parameter 2  Parameter 3  Parameter 4  Parameter 5  \\\n",
       "count  1599.000000  1599.000000  1599.000000  1599.000000  1599.000000   \n",
       "mean      8.319637     0.527821     0.270976     2.538806     0.087467   \n",
       "std       1.741096     0.179060     0.194801     1.409928     0.047065   \n",
       "min       4.600000     0.120000     0.000000     0.900000     0.012000   \n",
       "25%       7.100000     0.390000     0.090000     1.900000     0.070000   \n",
       "50%       7.900000     0.520000     0.260000     2.200000     0.079000   \n",
       "75%       9.200000     0.640000     0.420000     2.600000     0.090000   \n",
       "max      15.900000     1.580000     1.000000    15.500000     0.611000   \n",
       "\n",
       "       Parameter 6  Parameter 7  Parameter 8  Parameter 9  Parameter 10  \\\n",
       "count  1599.000000  1599.000000  1599.000000  1599.000000   1599.000000   \n",
       "mean     15.874922    46.467792     0.996747     3.311113      0.658149   \n",
       "std      10.460157    32.895324     0.001887     0.154386      0.169507   \n",
       "min       1.000000     6.000000     0.990070     2.740000      0.330000   \n",
       "25%       7.000000    22.000000     0.995600     3.210000      0.550000   \n",
       "50%      14.000000    38.000000     0.996750     3.310000      0.620000   \n",
       "75%      21.000000    62.000000     0.997835     3.400000      0.730000   \n",
       "max      72.000000   289.000000     1.003690     4.010000      2.000000   \n",
       "\n",
       "       Parameter 11  Signal_Strength  \n",
       "count   1599.000000      1599.000000  \n",
       "mean      10.422983         5.636023  \n",
       "std        1.065668         0.807569  \n",
       "min        8.400000         3.000000  \n",
       "25%        9.500000         5.000000  \n",
       "50%       10.200000         6.000000  \n",
       "75%       11.100000         6.000000  \n",
       "max       14.900000         8.000000  "
      ]
     },
     "execution_count": 7,
     "metadata": {},
     "output_type": "execute_result"
    }
   ],
   "source": [
    "mydata.describe()"
   ]
  },
  {
   "cell_type": "code",
   "execution_count": 8,
   "id": "5eec3135",
   "metadata": {},
   "outputs": [
    {
     "data": {
      "image/png": "[encoded data removed]",
      "text/plain": [
       "<Figure size 432x288 with 1 Axes>"
      ]
     },
     "metadata": {
      "needs_background": "light"
     },
     "output_type": "display_data"
    },
    {
     "name": "stdout",
     "output_type": "stream",
     "text": [
      "Distribution of  Parameter 1\n",
      "Mean is: 8.319637273295838\n",
      "Median is: 7.9\n",
      "Mode is: 0    7.2\n",
      "dtype: float64\n",
      "Standard deviation is: 1.7410963181277006\n",
      "Skewness is: 0.9827514413284587\n",
      "Maximum is: 15.9\n",
      "Minimum is: 4.6\n"
     ]
    },
    {
     "data": {
      "image/png": "[encoded data removed]",
      "text/plain": [
       "<Figure size 432x288 with 1 Axes>"
      ]
     },
     "metadata": {
      "needs_background": "light"
     },
     "output_type": "display_data"
    },
    {
     "name": "stdout",
     "output_type": "stream",
     "text": [
      "Distribution of  Parameter 2\n",
      "Mean is: 0.5278205128205131\n",
      "Median is: 0.52\n",
      "Mode is: 0    0.6\n",
      "dtype: float64\n",
      "Standard deviation is: 0.17905970415353498\n",
      "Skewness is: 0.6715925723840199\n",
      "Maximum is: 1.58\n",
      "Minimum is: 0.12\n"
     ]
    },
    {
     "data": {
      "image/png": "[encoded data removed]",
      "text/plain": [
       "<Figure size 432x288 with 1 Axes>"
      ]
     },
     "metadata": {
      "needs_background": "light"
     },
     "output_type": "display_data"
    },
    {
     "name": "stdout",
     "output_type": "stream",
     "text": [
      "Distribution of  Parameter 3\n",
      "Mean is: 0.2709756097560964\n",
      "Median is: 0.26\n",
      "Mode is: 0    0.0\n",
      "dtype: float64\n",
      "Standard deviation is: 0.19480113740531785\n",
      "Skewness is: 0.3183372952546368\n",
      "Maximum is: 1.0\n",
      "Minimum is: 0.0\n"
     ]
    },
    {
     "data": {
      "image/png": "[encoded data removed]",
      "text/plain": [
       "<Figure size 432x288 with 1 Axes>"
      ]
     },
     "metadata": {
      "needs_background": "light"
     },
     "output_type": "display_data"
    },
    {
     "name": "stdout",
     "output_type": "stream",
     "text": [
      "Distribution of  Parameter 4\n",
      "Mean is: 2.5388055034396517\n",
      "Median is: 2.2\n",
      "Mode is: 0    2.0\n",
      "dtype: float64\n",
      "Standard deviation is: 1.4099280595072805\n",
      "Skewness is: 4.54065542590319\n",
      "Maximum is: 15.5\n",
      "Minimum is: 0.9\n"
     ]
    },
    {
     "data": {
      "image/png": "[encoded data removed]",
      "text/plain": [
       "<Figure size 432x288 with 1 Axes>"
      ]
     },
     "metadata": {
      "needs_background": "light"
     },
     "output_type": "display_data"
    },
    {
     "name": "stdout",
     "output_type": "stream",
     "text": [
      "Distribution of  Parameter 5\n",
      "Mean is: 0.08746654158849257\n",
      "Median is: 0.079\n",
      "Mode is: 0    0.08\n",
      "dtype: float64\n",
      "Standard deviation is: 0.047065302010090154\n",
      "Skewness is: 5.680346571971724\n",
      "Maximum is: 0.611\n",
      "Minimum is: 0.012\n"
     ]
    },
    {
     "data": {
      "image/png": "[encoded data removed]",
      "text/plain": [
       "<Figure size 432x288 with 1 Axes>"
      ]
     },
     "metadata": {
      "needs_background": "light"
     },
     "output_type": "display_data"
    },
    {
     "name": "stdout",
     "output_type": "stream",
     "text": [
      "Distribution of  Parameter 6\n",
      "Mean is: 15.874921826141339\n",
      "Median is: 14.0\n",
      "Mode is: 0    6.0\n",
      "dtype: float64\n",
      "Standard deviation is: 10.46015696980973\n",
      "Skewness is: 1.250567293314441\n",
      "Maximum is: 72.0\n",
      "Minimum is: 1.0\n"
     ]
    },
    {
     "data": {
      "image/png": "[encoded data removed]",
      "text/plain": [
       "<Figure size 432x288 with 1 Axes>"
      ]
     },
     "metadata": {
      "needs_background": "light"
     },
     "output_type": "display_data"
    },
    {
     "name": "stdout",
     "output_type": "stream",
     "text": [
      "Distribution of  Parameter 7\n",
      "Mean is: 46.46779237023139\n",
      "Median is: 38.0\n",
      "Mode is: 0    28.0\n",
      "dtype: float64\n",
      "Standard deviation is: 32.89532447829901\n",
      "Skewness is: 1.515531257594554\n",
      "Maximum is: 289.0\n",
      "Minimum is: 6.0\n"
     ]
    },
    {
     "data": {
      "image/png": "[encoded data removed]",
      "text/plain": [
       "<Figure size 432x288 with 1 Axes>"
      ]
     },
     "metadata": {
      "needs_background": "light"
     },
     "output_type": "display_data"
    },
    {
     "name": "stdout",
     "output_type": "stream",
     "text": [
      "Distribution of  Parameter 8\n",
      "Mean is: 0.9967466791744831\n",
      "Median is: 0.99675\n",
      "Mode is: 0    0.9972\n",
      "dtype: float64\n",
      "Standard deviation is: 0.0018873339538425559\n",
      "Skewness is: 0.07128766294927483\n",
      "Maximum is: 1.00369\n",
      "Minimum is: 0.99007\n"
     ]
    },
    {
     "data": {
      "image/png": "[encoded data removed]",
      "text/plain": [
       "<Figure size 432x288 with 1 Axes>"
      ]
     },
     "metadata": {
      "needs_background": "light"
     },
     "output_type": "display_data"
    },
    {
     "name": "stdout",
     "output_type": "stream",
     "text": [
      "Distribution of  Parameter 9\n",
      "Mean is: 3.311113195747343\n",
      "Median is: 3.31\n",
      "Mode is: 0    3.3\n",
      "dtype: float64\n",
      "Standard deviation is: 0.15438646490354266\n",
      "Skewness is: 0.19368349811284427\n",
      "Maximum is: 4.01\n",
      "Minimum is: 2.74\n"
     ]
    },
    {
     "data": {
      "image/png": "[encoded data removed]",
      "text/plain": [
       "<Figure size 432x288 with 1 Axes>"
      ]
     },
     "metadata": {
      "needs_background": "light"
     },
     "output_type": "display_data"
    },
    {
     "name": "stdout",
     "output_type": "stream",
     "text": [
      "Distribution of  Parameter 10\n",
      "Mean is: 0.6581488430268921\n",
      "Median is: 0.62\n",
      "Mode is: 0    0.6\n",
      "dtype: float64\n",
      "Standard deviation is: 0.16950697959010977\n",
      "Skewness is: 2.4286723536602945\n",
      "Maximum is: 2.0\n",
      "Minimum is: 0.33\n"
     ]
    },
    {
     "data": {
      "image/png": "[encoded data removed]",
      "text/plain": [
       "<Figure size 432x288 with 1 Axes>"
      ]
     },
     "metadata": {
      "needs_background": "light"
     },
     "output_type": "display_data"
    },
    {
     "name": "stdout",
     "output_type": "stream",
     "text": [
      "Distribution of  Parameter 11\n",
      "Mean is: 10.422983114446502\n",
      "Median is: 10.2\n",
      "Mode is: 0    9.5\n",
      "dtype: float64\n",
      "Standard deviation is: 1.0656675818563965\n",
      "Skewness is: 0.8608288069184189\n",
      "Maximum is: 14.9\n",
      "Minimum is: 8.4\n"
     ]
    },
    {
     "data": {
      "image/png": "[encoded data removed]",
      "text/plain": [
       "<Figure size 432x288 with 1 Axes>"
      ]
     },
     "metadata": {
      "needs_background": "light"
     },
     "output_type": "display_data"
    },
    {
     "name": "stdout",
     "output_type": "stream",
     "text": [
      "Distribution of  Signal_Strength\n",
      "Mean is: 5.6360225140712945\n",
      "Median is: 6.0\n",
      "Mode is: 0    5\n",
      "dtype: int64\n",
      "Standard deviation is: 0.8075694397347023\n",
      "Skewness is: 0.21780157547366327\n",
      "Maximum is: 8\n",
      "Minimum is: 3\n"
     ]
    }
   ],
   "source": [
    "cols = list(mydata)\n",
    "for i in np.arange(len(cols)):\n",
    "    sns.distplot(mydata[cols[i]], color='blue')\n",
    "    #plt.xlabel('Experience')\n",
    "    plt.show()\n",
    "    print('Distribution of ',cols[i])\n",
    "    print('Mean is:',mydata[cols[i]].mean())\n",
    "    print('Median is:',mydata[cols[i]].median())\n",
    "    print('Mode is:',mydata[cols[i]].mode())\n",
    "    print('Standard deviation is:',mydata[cols[i]].std())\n",
    "    print('Skewness is:',mydata[cols[i]].skew())\n",
    "    print('Maximum is:',mydata[cols[i]].max())\n",
    "    print('Minimum is:',mydata[cols[i]].min())"
   ]
  },
  {
   "cell_type": "code",
   "execution_count": 9,
   "id": "eb3dfb84",
   "metadata": {},
   "outputs": [
    {
     "data": {
      "image/png": "[encoded data removed]",
      "text/plain": [
       "<Figure size 432x288 with 1 Axes>"
      ]
     },
     "metadata": {
      "needs_background": "light"
     },
     "output_type": "display_data"
    }
   ],
   "source": [
    "sns.countplot(mydata['Signal_Strength'])    # Distibution of the column 'Signal_Strength'\n",
    "plt.show()"
   ]
  },
  {
   "cell_type": "code",
   "execution_count": 1,
   "id": "82652920",
   "metadata": {},
   "outputs": [
    {
     "ename": "NameError",
     "evalue": "name 'sns' is not defined",
     "output_type": "error",
     "traceback": [
      "\u001b[1;31m---------------------------------------------------------------------------\u001b[0m",
      "\u001b[1;31mNameError\u001b[0m                                 Traceback (most recent call last)",
      "\u001b[1;32mC:\\Users\\MALLIK~1\\AppData\\Local\\Temp/ipykernel_1504/2177838740.py\u001b[0m in \u001b[0;36m<module>\u001b[1;34m\u001b[0m\n\u001b[1;32m----> 1\u001b[1;33m \u001b[0msns\u001b[0m\u001b[1;33m.\u001b[0m\u001b[0mpairplot\u001b[0m\u001b[1;33m(\u001b[0m\u001b[0mmydata\u001b[0m\u001b[1;33m,\u001b[0m\u001b[0mdiag_kind\u001b[0m\u001b[1;33m=\u001b[0m\u001b[1;34m'kde'\u001b[0m\u001b[1;33m)\u001b[0m\u001b[1;33m\u001b[0m\u001b[1;33m\u001b[0m\u001b[0m\n\u001b[0m\u001b[0;32m      2\u001b[0m \u001b[0mplt\u001b[0m\u001b[1;33m.\u001b[0m\u001b[0mshow\u001b[0m\u001b[1;33m(\u001b[0m\u001b[1;33m)\u001b[0m\u001b[1;33m\u001b[0m\u001b[1;33m\u001b[0m\u001b[0m\n",
      "\u001b[1;31mNameError\u001b[0m: name 'sns' is not defined"
     ]
    }
   ],
   "source": [
    "sns.pairplot(mydata,diag_kind='kde')\n",
    "plt.show()"
   ]
  },
  {
   "cell_type": "code",
   "execution_count": null,
   "id": "875d185a",
   "metadata": {},
   "outputs": [],
   "source": [
    "l = len(mydata)\n",
    "col = list(mydata.columns)\n",
    "#col.remove('condition')\n",
    "for i in np.arange(len(col)):\n",
    "    sns.boxplot(x= mydata[col[i]], color='cyan')\n",
    "    plt.show()\n",
    "    print('Boxplot of ',col[i])\n",
    "    #calculating the outiers in attribute \n",
    "    Q1 = mydata[col[i]].quantile(0.25)\n",
    "    Q2 = mydata[col[i]].quantile(0.50)\n",
    "    Q3 = mydata[col[i]].quantile(0.75) \n",
    "    IQR = Q3 - Q1\n",
    "    L_W = (Q1 - 1.5 *IQR)\n",
    "    U_W = (Q3 + 1.5 *IQR)    \n",
    "    print('Q1 is : ',Q1)\n",
    "    print('Q2 is : ',Q2)\n",
    "    print('Q3 is : ',Q3)\n",
    "    print('IQR is:',IQR)\n",
    "    print('Lower Whisker, Upper Whisker : ',L_W,',',U_W)\n",
    "    bools = (mydata[col[i]] < (Q1 - 1.5 *IQR)) |(mydata[col[i]] > (Q3 + 1.5 * IQR))\n",
    "    print('Out of ',l,' rows in data, number of outliers are:',bools.sum())   #calculating the number of outliers"
   ]
  },
  {
   "cell_type": "code",
   "execution_count": null,
   "id": "a0456a5b",
   "metadata": {},
   "outputs": [],
   "source": [
    "def detect_treate_outliers(df,operation):\n",
    "    cols=[]\n",
    "    IQR_list=[]\n",
    "    lower_boundary_list=[]\n",
    "    upper_boundary_list=[]\n",
    "    outliers_count=[]\n",
    "    for col in df.columns:\n",
    "        #print('col',col)\n",
    "        if((df[col].dtype =='int64' or df[col].dtype =='float64') and (col != 'HR')):\n",
    "            #print('Inside if')\n",
    "            IQR = df[col].quantile(0.75) - df[col].quantile(0.25)\n",
    "            lower_boundary = df[col].quantile(0.25) - (1.5 * IQR)\n",
    "            upper_boundary = df[col].quantile(0.75) + (1.5 * IQR)\n",
    "            up_cnt = df[df[col]>upper_boundary][col].shape[0]\n",
    "            #print('Upper count=',up_cnt)\n",
    "            lw_cnt = df[df[col]<lower_boundary][col].shape[0]\n",
    "            #print('lower count=',lw_cnt)\n",
    "            if(up_cnt+lw_cnt) > 0:\n",
    "                cols.append(col)\n",
    "                IQR_list.append(IQR)\n",
    "                lower_boundary_list.append(lower_boundary)\n",
    "                upper_boundary_list.append(upper_boundary)\n",
    "                outliers_count.append(up_cnt+lw_cnt)\n",
    "                if operation == 'update':\n",
    "                    df.loc[df[col] > upper_boundary,col] = upper_boundary\n",
    "                    df.loc[df[col] < lower_boundary,col] = lower_boundary\n",
    "                else:\n",
    "                    pass\n",
    "            else:\n",
    "                pass\n",
    "   #print('cols=',cols)\n",
    "   # print('IQR_list=',IQR_list)\n",
    "   # print('lower_boundary_list=',lower_boundary_list)\n",
    "   # print('upper_boundary_list=',upper_boundary_list)\n",
    "   # print('outliers_count=',outliers_count)\n",
    "    ndf = pd.DataFrame(list(zip(cols,IQR_list,lower_boundary_list,upper_boundary_list,outliers_count)),columns=['Features','IQR','Lower Boundary','Upper Boundary','Outlier Count'])\n",
    "    #print('Data=',ndf)\n",
    "    #print('Columns having outliers=',cols)\n",
    "    if operation == 'update':\n",
    "        return (len(cols),df)\n",
    "    else:\n",
    "        return (len(cols),ndf)"
   ]
  },
  {
   "cell_type": "code",
   "execution_count": null,
   "id": "ccfb27f5",
   "metadata": {},
   "outputs": [],
   "source": [
    "count,df=detect_treate_outliers(mydata,'update')\n",
    "if count>0:\n",
    "    print('Updating dataset')\n",
    "    mydata=df"
   ]
  },
  {
   "cell_type": "code",
   "execution_count": null,
   "id": "19971b65",
   "metadata": {},
   "outputs": [],
   "source": [
    "b_corr=mydata.corr()\n",
    "plt.subplots(figsize =(12, 7)) \n",
    "sns.heatmap(b_corr,annot=True)"
   ]
  },
  {
   "cell_type": "code",
   "execution_count": null,
   "id": "afab6973",
   "metadata": {},
   "outputs": [],
   "source": [
    "X = mydata.drop(\"Signal_Strength\", axis=1)\n",
    "y = mydata['Signal_Strength']"
   ]
  },
  {
   "cell_type": "code",
   "execution_count": 16,
   "id": "ce2ea9b8",
   "metadata": {},
   "outputs": [],
   "source": [
    "from sklearn.model_selection import train_test_split\n",
    "\n",
    "# splitting to create test data\n",
    "X_vtrain, X_test, y_vtrain, y_test = train_test_split(X, y, test_size=.30, random_state=seed)"
   ]
  },
  {
   "cell_type": "code",
   "execution_count": 21,
   "id": "b93ba406",
   "metadata": {},
   "outputs": [
    {
     "data": {
      "text/plain": [
       "(1119, 11)"
      ]
     },
     "execution_count": 21,
     "metadata": {},
     "output_type": "execute_result"
    }
   ],
   "source": [
    "X_vtrain.shape"
   ]
  },
  {
   "cell_type": "code",
   "execution_count": 22,
   "id": "eb6f9893",
   "metadata": {},
   "outputs": [],
   "source": [
    "X_train, X_val, y_train, y_val = train_test_split(X_vtrain, y_vtrain, test_size=.20, random_state=seed)"
   ]
  },
  {
   "cell_type": "code",
   "execution_count": 23,
   "id": "c652699e",
   "metadata": {},
   "outputs": [
    {
     "data": {
      "text/plain": [
       "(895, 11)"
      ]
     },
     "execution_count": 23,
     "metadata": {},
     "output_type": "execute_result"
    }
   ],
   "source": [
    "X_train.shape"
   ]
  },
  {
   "cell_type": "code",
   "execution_count": 26,
   "id": "83f9d302",
   "metadata": {},
   "outputs": [],
   "source": [
    "# Initialize Sequential model\n",
    "model_reg = tf.keras.models.Sequential()\n",
    "\n",
    "# Normalize input data\n",
    "model_reg.add(tf.keras.layers.BatchNormalization(input_shape=(11,)))\n",
    "\n",
    "# Add final Dense layer for prediction - Tensorflow.keras declares weights and bias automatically\n",
    "model_reg.add(tf.keras.layers.Dense(1))"
   ]
  },
  {
   "cell_type": "code",
   "execution_count": 27,
   "id": "8b4495f9",
   "metadata": {},
   "outputs": [],
   "source": [
    "model_reg.compile(optimizer='sgd', loss='mse')"
   ]
  },
  {
   "cell_type": "code",
   "execution_count": 28,
   "id": "5996da8e",
   "metadata": {},
   "outputs": [
    {
     "name": "stdout",
     "output_type": "stream",
     "text": [
      "Epoch 1/100\n",
      "90/90 [==============================] - 2s 11ms/step - loss: 3.7451 - val_loss: 6.6904\n",
      "Epoch 2/100\n",
      "90/90 [==============================] - 0s 4ms/step - loss: 0.8154 - val_loss: 1.0802\n",
      "Epoch 3/100\n",
      "90/90 [==============================] - 0s 4ms/step - loss: 0.6560 - val_loss: 0.6069\n",
      "Epoch 4/100\n",
      "90/90 [==============================] - 0s 4ms/step - loss: 0.5481 - val_loss: 0.4541\n",
      "Epoch 5/100\n",
      "90/90 [==============================] - 1s 7ms/step - loss: 0.4945 - val_loss: 0.4255\n",
      "Epoch 6/100\n",
      "90/90 [==============================] - 1s 8ms/step - loss: 0.4925 - val_loss: 0.4209\n",
      "Epoch 7/100\n",
      "90/90 [==============================] - 1s 6ms/step - loss: 0.4768 - val_loss: 0.3961\n",
      "Epoch 8/100\n",
      "90/90 [==============================] - 0s 4ms/step - loss: 0.4662 - val_loss: 0.4197\n",
      "Epoch 9/100\n",
      "90/90 [==============================] - 0s 5ms/step - loss: 0.4537 - val_loss: 0.3764\n",
      "Epoch 10/100\n",
      "90/90 [==============================] - 1s 7ms/step - loss: 0.4452 - val_loss: 0.3653\n",
      "Epoch 11/100\n",
      "90/90 [==============================] - 1s 8ms/step - loss: 0.4539 - val_loss: 0.3726\n",
      "Epoch 12/100\n",
      "90/90 [==============================] - 1s 7ms/step - loss: 0.4346 - val_loss: 0.3642\n",
      "Epoch 13/100\n",
      "90/90 [==============================] - 1s 7ms/step - loss: 0.4536 - val_loss: 0.3722\n",
      "Epoch 14/100\n",
      "90/90 [==============================] - 1s 8ms/step - loss: 0.4249 - val_loss: 0.3578\n",
      "Epoch 15/100\n",
      "90/90 [==============================] - 1s 7ms/step - loss: 0.4479 - val_loss: 0.3575\n",
      "Epoch 16/100\n",
      "90/90 [==============================] - 1s 7ms/step - loss: 0.4384 - val_loss: 0.4073\n",
      "Epoch 17/100\n",
      "90/90 [==============================] - 1s 7ms/step - loss: 0.4483 - val_loss: 0.3567\n",
      "Epoch 18/100\n",
      "90/90 [==============================] - 1s 6ms/step - loss: 0.4422 - val_loss: 0.3503\n",
      "Epoch 19/100\n",
      "90/90 [==============================] - 0s 5ms/step - loss: 0.4422 - val_loss: 0.3617\n",
      "Epoch 20/100\n",
      "90/90 [==============================] - 1s 6ms/step - loss: 0.4319 - val_loss: 0.3617\n",
      "Epoch 21/100\n",
      "90/90 [==============================] - 1s 6ms/step - loss: 0.4395 - val_loss: 0.3597\n",
      "Epoch 22/100\n",
      "90/90 [==============================] - 1s 7ms/step - loss: 0.4355 - val_loss: 0.3566\n",
      "Epoch 23/100\n",
      "90/90 [==============================] - 1s 6ms/step - loss: 0.4406 - val_loss: 0.3503\n",
      "Epoch 24/100\n",
      "90/90 [==============================] - 1s 7ms/step - loss: 0.4406 - val_loss: 0.3492\n",
      "Epoch 25/100\n",
      "90/90 [==============================] - 0s 4ms/step - loss: 0.4456 - val_loss: 0.3750\n",
      "Epoch 26/100\n",
      "90/90 [==============================] - 1s 6ms/step - loss: 0.4308 - val_loss: 0.3886\n",
      "Epoch 27/100\n",
      "90/90 [==============================] - 1s 6ms/step - loss: 0.4430 - val_loss: 0.3712\n",
      "Epoch 28/100\n",
      "90/90 [==============================] - 1s 6ms/step - loss: 0.4324 - val_loss: 0.3697\n",
      "Epoch 29/100\n",
      "90/90 [==============================] - 0s 5ms/step - loss: 0.4441 - val_loss: 0.3711\n",
      "Epoch 30/100\n",
      "90/90 [==============================] - 0s 4ms/step - loss: 0.4266 - val_loss: 0.3682\n",
      "Epoch 31/100\n",
      "90/90 [==============================] - 1s 7ms/step - loss: 0.4496 - val_loss: 0.3637\n",
      "Epoch 32/100\n",
      "90/90 [==============================] - 0s 5ms/step - loss: 0.4464 - val_loss: 0.4091\n",
      "Epoch 33/100\n",
      "90/90 [==============================] - 1s 7ms/step - loss: 0.4306 - val_loss: 0.3807\n",
      "Epoch 34/100\n",
      "90/90 [==============================] - 0s 4ms/step - loss: 0.4230 - val_loss: 0.3617\n",
      "Epoch 35/100\n",
      "90/90 [==============================] - 0s 4ms/step - loss: 0.4432 - val_loss: 0.3847\n",
      "Epoch 36/100\n",
      "90/90 [==============================] - 0s 4ms/step - loss: 0.4284 - val_loss: 0.3461\n",
      "Epoch 37/100\n",
      "90/90 [==============================] - 1s 6ms/step - loss: 0.4300 - val_loss: 0.3625\n",
      "Epoch 38/100\n",
      "90/90 [==============================] - 1s 6ms/step - loss: 0.4218 - val_loss: 0.3886\n",
      "Epoch 39/100\n",
      "90/90 [==============================] - 1s 7ms/step - loss: 0.4465 - val_loss: 0.3585\n",
      "Epoch 40/100\n",
      "90/90 [==============================] - 1s 6ms/step - loss: 0.4522 - val_loss: 0.3652\n",
      "Epoch 41/100\n",
      "90/90 [==============================] - 1s 6ms/step - loss: 0.4335 - val_loss: 0.3758\n",
      "Epoch 42/100\n",
      "90/90 [==============================] - 1s 6ms/step - loss: 0.4464 - val_loss: 0.3967\n",
      "Epoch 43/100\n",
      "90/90 [==============================] - 1s 6ms/step - loss: 0.4456 - val_loss: 0.4209\n",
      "Epoch 44/100\n",
      "90/90 [==============================] - 1s 6ms/step - loss: 0.4322 - val_loss: 0.3687\n",
      "Epoch 45/100\n",
      "90/90 [==============================] - 1s 7ms/step - loss: 0.4536 - val_loss: 0.4308\n",
      "Epoch 46/100\n",
      "90/90 [==============================] - 0s 5ms/step - loss: 0.4388 - val_loss: 0.3492\n",
      "Epoch 47/100\n",
      "90/90 [==============================] - 0s 4ms/step - loss: 0.4320 - val_loss: 0.3644\n",
      "Epoch 48/100\n",
      "90/90 [==============================] - 0s 5ms/step - loss: 0.4309 - val_loss: 0.3938\n",
      "Epoch 49/100\n",
      "90/90 [==============================] - 1s 7ms/step - loss: 0.4243 - val_loss: 0.3729\n",
      "Epoch 50/100\n",
      "90/90 [==============================] - 0s 4ms/step - loss: 0.4308 - val_loss: 0.4077\n",
      "Epoch 51/100\n",
      "90/90 [==============================] - 0s 4ms/step - loss: 0.4434 - val_loss: 0.3814\n",
      "Epoch 52/100\n",
      "90/90 [==============================] - 0s 5ms/step - loss: 0.4350 - val_loss: 0.3491\n",
      "Epoch 53/100\n",
      "90/90 [==============================] - 0s 5ms/step - loss: 0.4387 - val_loss: 0.3688\n",
      "Epoch 54/100\n",
      "90/90 [==============================] - 0s 6ms/step - loss: 0.4428 - val_loss: 0.3577\n",
      "Epoch 55/100\n",
      "90/90 [==============================] - 1s 7ms/step - loss: 0.4536 - val_loss: 0.4195\n",
      "Epoch 56/100\n",
      "90/90 [==============================] - 1s 7ms/step - loss: 0.4790 - val_loss: 0.3719\n",
      "Epoch 57/100\n",
      "90/90 [==============================] - 1s 6ms/step - loss: 0.4547 - val_loss: 0.3556\n",
      "Epoch 58/100\n",
      "90/90 [==============================] - 0s 4ms/step - loss: 0.4355 - val_loss: 0.3979\n",
      "Epoch 59/100\n",
      "90/90 [==============================] - 0s 5ms/step - loss: 0.4268 - val_loss: 0.3537\n",
      "Epoch 60/100\n",
      "90/90 [==============================] - 1s 6ms/step - loss: 0.4356 - val_loss: 0.3889\n",
      "Epoch 61/100\n",
      "90/90 [==============================] - 1s 7ms/step - loss: 0.4452 - val_loss: 0.3666\n",
      "Epoch 62/100\n",
      "90/90 [==============================] - 1s 6ms/step - loss: 0.4302 - val_loss: 0.3761\n",
      "Epoch 63/100\n",
      "90/90 [==============================] - 0s 4ms/step - loss: 0.4294 - val_loss: 0.3556\n",
      "Epoch 64/100\n",
      "90/90 [==============================] - 1s 8ms/step - loss: 0.4408 - val_loss: 0.3568\n",
      "Epoch 65/100\n",
      "90/90 [==============================] - 1s 6ms/step - loss: 0.4384 - val_loss: 0.3698\n",
      "Epoch 66/100\n",
      "90/90 [==============================] - 0s 5ms/step - loss: 0.4445 - val_loss: 0.3470\n",
      "Epoch 67/100\n",
      "90/90 [==============================] - 0s 4ms/step - loss: 0.4549 - val_loss: 0.3547\n",
      "Epoch 68/100\n",
      "90/90 [==============================] - 1s 6ms/step - loss: 0.4324 - val_loss: 0.3480\n",
      "Epoch 69/100\n",
      "90/90 [==============================] - 1s 7ms/step - loss: 0.4454 - val_loss: 0.3634\n",
      "Epoch 70/100\n",
      "90/90 [==============================] - 1s 6ms/step - loss: 0.4271 - val_loss: 0.3932\n",
      "Epoch 71/100\n",
      "90/90 [==============================] - 1s 6ms/step - loss: 0.4476 - val_loss: 0.3570\n",
      "Epoch 72/100\n",
      "90/90 [==============================] - 0s 4ms/step - loss: 0.4207 - val_loss: 0.3737\n",
      "Epoch 73/100\n",
      "90/90 [==============================] - 0s 4ms/step - loss: 0.4365 - val_loss: 0.3768\n",
      "Epoch 74/100\n",
      "90/90 [==============================] - 0s 4ms/step - loss: 0.4414 - val_loss: 0.3528\n",
      "Epoch 75/100\n",
      "90/90 [==============================] - 1s 7ms/step - loss: 0.4360 - val_loss: 0.3936\n",
      "Epoch 76/100\n",
      "90/90 [==============================] - 1s 6ms/step - loss: 0.4167 - val_loss: 0.3481\n",
      "Epoch 77/100\n",
      "90/90 [==============================] - 0s 4ms/step - loss: 0.4370 - val_loss: 0.3565\n",
      "Epoch 78/100\n",
      "90/90 [==============================] - 0s 4ms/step - loss: 0.4269 - val_loss: 0.3947\n",
      "Epoch 79/100\n",
      "90/90 [==============================] - 1s 7ms/step - loss: 0.4429 - val_loss: 0.3595\n",
      "Epoch 80/100\n",
      "90/90 [==============================] - 0s 5ms/step - loss: 0.4339 - val_loss: 0.3564\n",
      "Epoch 81/100\n",
      "90/90 [==============================] - 0s 4ms/step - loss: 0.4418 - val_loss: 0.4016\n",
      "Epoch 82/100\n",
      "90/90 [==============================] - 0s 4ms/step - loss: 0.4467 - val_loss: 0.3599\n",
      "Epoch 83/100\n",
      "90/90 [==============================] - 0s 5ms/step - loss: 0.4398 - val_loss: 0.3575\n",
      "Epoch 84/100\n",
      "90/90 [==============================] - 1s 6ms/step - loss: 0.4228 - val_loss: 0.3790\n",
      "Epoch 85/100\n",
      "90/90 [==============================] - 1s 6ms/step - loss: 0.4332 - val_loss: 0.3669\n",
      "Epoch 86/100\n",
      "90/90 [==============================] - 1s 6ms/step - loss: 0.4534 - val_loss: 0.3515\n",
      "Epoch 87/100\n",
      "90/90 [==============================] - 0s 4ms/step - loss: 0.4479 - val_loss: 0.3628\n",
      "Epoch 88/100\n",
      "90/90 [==============================] - 0s 5ms/step - loss: 0.4379 - val_loss: 0.3855\n",
      "Epoch 89/100\n",
      "90/90 [==============================] - 0s 4ms/step - loss: 0.4333 - val_loss: 0.3434\n",
      "Epoch 90/100\n",
      "90/90 [==============================] - 1s 7ms/step - loss: 0.4306 - val_loss: 0.3498\n",
      "Epoch 91/100\n",
      "90/90 [==============================] - 0s 4ms/step - loss: 0.4353 - val_loss: 0.3507\n",
      "Epoch 92/100\n",
      "90/90 [==============================] - 0s 5ms/step - loss: 0.4368 - val_loss: 0.3709\n",
      "Epoch 93/100\n",
      "90/90 [==============================] - 0s 5ms/step - loss: 0.4418 - val_loss: 0.3601\n",
      "Epoch 94/100\n",
      "90/90 [==============================] - 0s 5ms/step - loss: 0.4472 - val_loss: 0.3552\n",
      "Epoch 95/100\n",
      "90/90 [==============================] - 0s 5ms/step - loss: 0.4235 - val_loss: 0.3492\n",
      "Epoch 96/100\n",
      "90/90 [==============================] - 0s 4ms/step - loss: 0.4382 - val_loss: 0.3681\n",
      "Epoch 97/100\n",
      "90/90 [==============================] - 0s 5ms/step - loss: 0.4382 - val_loss: 0.3475\n",
      "Epoch 98/100\n",
      "90/90 [==============================] - 0s 4ms/step - loss: 0.4504 - val_loss: 0.3459\n",
      "Epoch 99/100\n",
      "90/90 [==============================] - 0s 4ms/step - loss: 0.4347 - val_loss: 0.3458\n",
      "Epoch 100/100\n",
      "90/90 [==============================] - 0s 4ms/step - loss: 0.4421 - val_loss: 0.3786\n"
     ]
    },
    {
     "data": {
      "text/plain": [
       "<keras.src.callbacks.History at 0x21e6cac34c0>"
      ]
     },
     "execution_count": 28,
     "metadata": {},
     "output_type": "execute_result"
    }
   ],
   "source": [
    "model_reg.fit(X_train, y_train, validation_data=(X_val,y_val),epochs=100, batch_size=10)"
   ]
  },
  {
   "cell_type": "code",
   "execution_count": 29,
   "id": "ef374ea8",
   "metadata": {},
   "outputs": [
    {
     "name": "stdout",
     "output_type": "stream",
     "text": [
      "model saved!!!\n"
     ]
    }
   ],
   "source": [
    "model_reg.save(\"model_reg.h5\") #using h5 extension\n",
    "print(\"model saved!!!\")"
   ]
  },
  {
   "cell_type": "code",
   "execution_count": 30,
   "id": "a9902f21",
   "metadata": {},
   "outputs": [],
   "source": [
    "model_rr = load_model('model_reg.h5')"
   ]
  },
  {
   "cell_type": "code",
   "execution_count": 31,
   "id": "3d46f32e",
   "metadata": {},
   "outputs": [],
   "source": [
    "# Save the Modle to file in the current working directory\n",
    "\n",
    "#Pkl_Filename = \"Pickle_RR_Model.pkl\"  \n",
    "#with open(Pkl_Filename, 'wb') as file:  \n",
    "#    pickle.dump(model_reg, file)"
   ]
  },
  {
   "cell_type": "code",
   "execution_count": 32,
   "id": "d83a454b",
   "metadata": {},
   "outputs": [],
   "source": [
    "# Load the Model back from file\n",
    "\n",
    "#with open(Pkl_Filename, 'rb') as file:  \n",
    "#    Pickled_RR_Model = pickle.load(file)\n",
    "\n",
    "#Pickled_RR_Model\n"
   ]
  },
  {
   "cell_type": "code",
   "execution_count": 33,
   "id": "a1e92d17",
   "metadata": {},
   "outputs": [
    {
     "name": "stdout",
     "output_type": "stream",
     "text": [
      "15/15 [==============================] - 0s 3ms/step\n"
     ]
    }
   ],
   "source": [
    "y_pred = model_rr.predict(X_test)"
   ]
  },
  {
   "cell_type": "code",
   "execution_count": 34,
   "id": "f142c659",
   "metadata": {},
   "outputs": [
    {
     "name": "stdout",
     "output_type": "stream",
     "text": [
      "[5.758101]\n",
      "[5.797392]\n",
      "[6.0029435]\n",
      "[5.43006]\n",
      "[6.013795]\n"
     ]
    }
   ],
   "source": [
    "print(y_pred[0])\n",
    "print(y_pred[1])\n",
    "print(y_pred[2])\n",
    "print(y_pred[3])\n",
    "print(y_pred[4])"
   ]
  },
  {
   "cell_type": "code",
   "execution_count": 35,
   "id": "b1793dd1",
   "metadata": {},
   "outputs": [
    {
     "name": "stdout",
     "output_type": "stream",
     "text": [
      "1526    6.0\n",
      "674     6.0\n",
      "1508    6.0\n",
      "58      5.0\n",
      "1351    6.0\n",
      "Name: Signal_Strength, dtype: float64\n"
     ]
    }
   ],
   "source": [
    "print(y_test.head())"
   ]
  },
  {
   "cell_type": "code",
   "execution_count": 36,
   "id": "b1826aa5",
   "metadata": {},
   "outputs": [
    {
     "name": "stdout",
     "output_type": "stream",
     "text": [
      "0.3251051080364312\n"
     ]
    }
   ],
   "source": [
    "score_r = r2_score(y_test,y_pred)\n",
    "print(score_r)"
   ]
  },
  {
   "cell_type": "code",
   "execution_count": 37,
   "id": "e3bc8047",
   "metadata": {},
   "outputs": [
    {
     "name": "stdout",
     "output_type": "stream",
     "text": [
      "Model: \"sequential\"\n",
      "_________________________________________________________________\n",
      " Layer (type)                Output Shape              Param #   \n",
      "=================================================================\n",
      " batch_normalization (Batch  (None, 11)                44        \n",
      " Normalization)                                                  \n",
      "                                                                 \n",
      " dense (Dense)               (None, 1)                 12        \n",
      "                                                                 \n",
      "=================================================================\n",
      "Total params: 56 (224.00 Byte)\n",
      "Trainable params: 34 (136.00 Byte)\n",
      "Non-trainable params: 22 (88.00 Byte)\n",
      "_________________________________________________________________\n"
     ]
    }
   ],
   "source": [
    "#summary of regression model\n",
    "model_rr.summary()"
   ]
  },
  {
   "cell_type": "code",
   "execution_count": 38,
   "id": "8778f966",
   "metadata": {},
   "outputs": [
    {
     "data": {
      "text/plain": [
       "5.0    681\n",
       "6.0    638\n",
       "7.0    199\n",
       "4.0     53\n",
       "7.5     18\n",
       "3.5     10\n",
       "Name: Signal_Strength, dtype: int64"
      ]
     },
     "execution_count": 38,
     "metadata": {},
     "output_type": "execute_result"
    }
   ],
   "source": [
    "# counting the number of classes in output\n",
    "mydata['Signal_Strength'].value_counts()"
   ]
  },
  {
   "cell_type": "code",
   "execution_count": 39,
   "id": "52208880",
   "metadata": {},
   "outputs": [
    {
     "data": {
      "text/plain": [
       "(1599, 11)"
      ]
     },
     "execution_count": 39,
     "metadata": {},
     "output_type": "execute_result"
    }
   ],
   "source": [
    "X.shape"
   ]
  },
  {
   "cell_type": "code",
   "execution_count": 40,
   "id": "9efc8018",
   "metadata": {},
   "outputs": [
    {
     "data": {
      "text/plain": [
       "(1599,)"
      ]
     },
     "execution_count": 40,
     "metadata": {},
     "output_type": "execute_result"
    }
   ],
   "source": [
    "y.shape\n"
   ]
  },
  {
   "cell_type": "code",
   "execution_count": 41,
   "id": "2c9bd60a",
   "metadata": {},
   "outputs": [],
   "source": [
    "yc = to_categorical(y, num_classes=8)"
   ]
  },
  {
   "cell_type": "code",
   "execution_count": 42,
   "id": "5b74021a",
   "metadata": {},
   "outputs": [],
   "source": [
    "# splitting data for test of categorial \n",
    "Xcv_train, Xc_test, ycv_train, yc_test = train_test_split(X, yc, test_size=.30, random_state=seed)"
   ]
  },
  {
   "cell_type": "code",
   "execution_count": 43,
   "id": "6fe850f4",
   "metadata": {},
   "outputs": [
    {
     "name": "stdout",
     "output_type": "stream",
     "text": [
      "Shape of y_train: (1119, 8)\n",
      "One value of y_train: [0. 0. 0. 0. 0. 0. 0. 1.]\n"
     ]
    }
   ],
   "source": [
    "print(\"Shape of y_train:\", ycv_train.shape)\n",
    "print(\"One value of y_train:\", ycv_train[0])"
   ]
  },
  {
   "cell_type": "code",
   "execution_count": 44,
   "id": "3bad120f",
   "metadata": {},
   "outputs": [],
   "source": [
    "Xc_train, Xc_val, yc_train, yc_val = train_test_split(Xcv_train, ycv_train, test_size=.20, random_state=seed)"
   ]
  },
  {
   "cell_type": "code",
   "execution_count": 45,
   "id": "c6ed8f02",
   "metadata": {},
   "outputs": [
    {
     "name": "stdout",
     "output_type": "stream",
     "text": [
      "Shape of y_train: (895, 8)\n",
      "One value of y_train: [0. 0. 0. 0. 0. 1. 0. 0.]\n"
     ]
    }
   ],
   "source": [
    "print(\"Shape of y_train:\", yc_train.shape)\n",
    "print(\"One value of y_train:\", yc_train[0])"
   ]
  },
  {
   "cell_type": "code",
   "execution_count": 46,
   "id": "beec0e8b",
   "metadata": {},
   "outputs": [],
   "source": [
    "model_class = Sequential()\n",
    "model_class.add(Dense(11, activation='relu'))\n",
    "model_class.add(Dense(8, activation='relu'))\n",
    "model_class.add(Dense(8, activation='softmax'))"
   ]
  },
  {
   "cell_type": "code",
   "execution_count": 47,
   "id": "a2b7af48",
   "metadata": {},
   "outputs": [
    {
     "name": "stdout",
     "output_type": "stream",
     "text": [
      "Epoch 1/100\n",
      "45/45 [==============================] - 2s 23ms/step - loss: 1.6100 - accuracy: 0.4056 - val_loss: 1.0997 - val_accuracy: 0.5179\n",
      "Epoch 2/100\n",
      "45/45 [==============================] - 0s 7ms/step - loss: 1.2088 - accuracy: 0.4246 - val_loss: 1.0394 - val_accuracy: 0.5179\n",
      "Epoch 3/100\n",
      "45/45 [==============================] - 0s 8ms/step - loss: 1.1950 - accuracy: 0.4547 - val_loss: 1.1178 - val_accuracy: 0.3571\n",
      "Epoch 4/100\n",
      "45/45 [==============================] - 0s 9ms/step - loss: 1.1894 - accuracy: 0.4391 - val_loss: 1.0377 - val_accuracy: 0.5089\n",
      "Epoch 5/100\n",
      "45/45 [==============================] - 0s 5ms/step - loss: 1.1759 - accuracy: 0.4492 - val_loss: 1.0264 - val_accuracy: 0.5089\n",
      "Epoch 6/100\n",
      "45/45 [==============================] - 0s 8ms/step - loss: 1.1664 - accuracy: 0.4369 - val_loss: 1.0528 - val_accuracy: 0.4821\n",
      "Epoch 7/100\n",
      "45/45 [==============================] - 0s 8ms/step - loss: 1.1667 - accuracy: 0.4402 - val_loss: 1.0375 - val_accuracy: 0.5223\n",
      "Epoch 8/100\n",
      "45/45 [==============================] - 0s 5ms/step - loss: 1.1622 - accuracy: 0.4436 - val_loss: 1.0919 - val_accuracy: 0.3571\n",
      "Epoch 9/100\n",
      "45/45 [==============================] - 0s 5ms/step - loss: 1.1787 - accuracy: 0.4380 - val_loss: 1.0696 - val_accuracy: 0.4688\n",
      "Epoch 10/100\n",
      "45/45 [==============================] - 0s 6ms/step - loss: 1.1620 - accuracy: 0.4380 - val_loss: 1.0372 - val_accuracy: 0.4688\n",
      "Epoch 11/100\n",
      "45/45 [==============================] - 0s 5ms/step - loss: 1.1604 - accuracy: 0.4425 - val_loss: 1.0755 - val_accuracy: 0.5223\n",
      "Epoch 12/100\n",
      "45/45 [==============================] - 0s 5ms/step - loss: 1.1608 - accuracy: 0.4324 - val_loss: 1.0311 - val_accuracy: 0.4777\n",
      "Epoch 13/100\n",
      "45/45 [==============================] - 0s 5ms/step - loss: 1.1557 - accuracy: 0.4246 - val_loss: 1.0078 - val_accuracy: 0.5179\n",
      "Epoch 14/100\n",
      "45/45 [==============================] - 0s 5ms/step - loss: 1.1571 - accuracy: 0.4369 - val_loss: 1.0308 - val_accuracy: 0.4866\n",
      "Epoch 15/100\n",
      "45/45 [==============================] - 0s 5ms/step - loss: 1.1518 - accuracy: 0.4380 - val_loss: 1.0330 - val_accuracy: 0.5000\n",
      "Epoch 16/100\n",
      "45/45 [==============================] - 0s 8ms/step - loss: 1.1495 - accuracy: 0.4324 - val_loss: 1.0140 - val_accuracy: 0.4866\n",
      "Epoch 17/100\n",
      "45/45 [==============================] - 0s 6ms/step - loss: 1.1522 - accuracy: 0.4402 - val_loss: 1.0494 - val_accuracy: 0.4821\n",
      "Epoch 18/100\n",
      "45/45 [==============================] - 0s 6ms/step - loss: 1.1494 - accuracy: 0.4469 - val_loss: 1.0315 - val_accuracy: 0.4866\n",
      "Epoch 19/100\n",
      "45/45 [==============================] - 0s 6ms/step - loss: 1.1501 - accuracy: 0.4335 - val_loss: 1.0760 - val_accuracy: 0.4955\n",
      "Epoch 20/100\n",
      "45/45 [==============================] - 0s 5ms/step - loss: 1.1504 - accuracy: 0.4436 - val_loss: 1.0365 - val_accuracy: 0.4955\n",
      "Epoch 21/100\n",
      "45/45 [==============================] - 0s 5ms/step - loss: 1.1510 - accuracy: 0.4369 - val_loss: 1.0197 - val_accuracy: 0.4821\n",
      "Epoch 22/100\n",
      "45/45 [==============================] - 0s 5ms/step - loss: 1.1470 - accuracy: 0.4458 - val_loss: 1.0254 - val_accuracy: 0.4955\n",
      "Epoch 23/100\n",
      "45/45 [==============================] - 0s 5ms/step - loss: 1.1458 - accuracy: 0.4257 - val_loss: 1.0269 - val_accuracy: 0.4866\n",
      "Epoch 24/100\n",
      "45/45 [==============================] - 0s 5ms/step - loss: 1.1498 - accuracy: 0.4581 - val_loss: 1.0694 - val_accuracy: 0.4866\n",
      "Epoch 25/100\n",
      "45/45 [==============================] - 0s 5ms/step - loss: 1.1512 - accuracy: 0.4503 - val_loss: 1.0378 - val_accuracy: 0.4777\n",
      "Epoch 26/100\n",
      "45/45 [==============================] - 0s 5ms/step - loss: 1.1415 - accuracy: 0.4659 - val_loss: 1.0571 - val_accuracy: 0.4777\n",
      "Epoch 27/100\n",
      "45/45 [==============================] - 0s 5ms/step - loss: 1.1422 - accuracy: 0.4492 - val_loss: 1.0160 - val_accuracy: 0.4821\n",
      "Epoch 28/100\n",
      "45/45 [==============================] - 0s 8ms/step - loss: 1.1495 - accuracy: 0.4447 - val_loss: 1.0629 - val_accuracy: 0.5000\n",
      "Epoch 29/100\n",
      "45/45 [==============================] - 0s 6ms/step - loss: 1.1420 - accuracy: 0.4682 - val_loss: 1.0184 - val_accuracy: 0.5045\n",
      "Epoch 30/100\n",
      "45/45 [==============================] - 0s 6ms/step - loss: 1.1481 - accuracy: 0.4447 - val_loss: 1.0707 - val_accuracy: 0.5045\n",
      "Epoch 31/100\n",
      "45/45 [==============================] - 0s 6ms/step - loss: 1.1406 - accuracy: 0.4458 - val_loss: 1.0110 - val_accuracy: 0.5045\n",
      "Epoch 32/100\n",
      "45/45 [==============================] - 0s 6ms/step - loss: 1.1461 - accuracy: 0.4503 - val_loss: 1.0326 - val_accuracy: 0.4911\n",
      "Epoch 33/100\n",
      "45/45 [==============================] - 0s 7ms/step - loss: 1.1444 - accuracy: 0.4514 - val_loss: 1.0346 - val_accuracy: 0.4821\n",
      "Epoch 34/100\n",
      "45/45 [==============================] - 0s 5ms/step - loss: 1.1404 - accuracy: 0.4581 - val_loss: 1.0226 - val_accuracy: 0.5000\n",
      "Epoch 35/100\n",
      "45/45 [==============================] - 0s 6ms/step - loss: 1.1433 - accuracy: 0.4514 - val_loss: 1.0019 - val_accuracy: 0.4732\n",
      "Epoch 36/100\n",
      "45/45 [==============================] - 0s 6ms/step - loss: 1.1357 - accuracy: 0.4447 - val_loss: 1.0105 - val_accuracy: 0.4688\n",
      "Epoch 37/100\n",
      "45/45 [==============================] - 0s 5ms/step - loss: 1.1447 - accuracy: 0.4402 - val_loss: 1.0267 - val_accuracy: 0.4821\n",
      "Epoch 38/100\n",
      "45/45 [==============================] - 0s 7ms/step - loss: 1.1391 - accuracy: 0.4648 - val_loss: 1.0146 - val_accuracy: 0.4911\n",
      "Epoch 39/100\n",
      "45/45 [==============================] - 0s 5ms/step - loss: 1.1378 - accuracy: 0.4615 - val_loss: 1.0327 - val_accuracy: 0.4911\n",
      "Epoch 40/100\n",
      "45/45 [==============================] - 0s 8ms/step - loss: 1.1384 - accuracy: 0.4425 - val_loss: 1.0022 - val_accuracy: 0.5000\n",
      "Epoch 41/100\n",
      "45/45 [==============================] - 0s 4ms/step - loss: 1.1379 - accuracy: 0.4693 - val_loss: 1.0053 - val_accuracy: 0.5045\n",
      "Epoch 42/100\n",
      "45/45 [==============================] - 0s 7ms/step - loss: 1.1374 - accuracy: 0.4637 - val_loss: 1.0065 - val_accuracy: 0.4955\n",
      "Epoch 43/100\n",
      "45/45 [==============================] - 0s 7ms/step - loss: 1.1346 - accuracy: 0.4447 - val_loss: 1.0397 - val_accuracy: 0.5179\n",
      "Epoch 44/100\n",
      "45/45 [==============================] - 0s 6ms/step - loss: 1.1427 - accuracy: 0.4302 - val_loss: 1.0154 - val_accuracy: 0.5089\n",
      "Epoch 45/100\n",
      "45/45 [==============================] - 0s 6ms/step - loss: 1.1385 - accuracy: 0.4458 - val_loss: 1.0193 - val_accuracy: 0.5134\n",
      "Epoch 46/100\n",
      "45/45 [==============================] - 0s 7ms/step - loss: 1.1343 - accuracy: 0.4559 - val_loss: 1.0646 - val_accuracy: 0.5223\n",
      "Epoch 47/100\n",
      "45/45 [==============================] - 0s 7ms/step - loss: 1.1275 - accuracy: 0.4637 - val_loss: 1.0118 - val_accuracy: 0.5045\n",
      "Epoch 48/100\n",
      "45/45 [==============================] - 0s 6ms/step - loss: 1.1335 - accuracy: 0.4559 - val_loss: 1.0067 - val_accuracy: 0.5045\n",
      "Epoch 49/100\n",
      "45/45 [==============================] - 0s 6ms/step - loss: 1.1318 - accuracy: 0.4503 - val_loss: 1.0198 - val_accuracy: 0.5134\n",
      "Epoch 50/100\n",
      "45/45 [==============================] - 0s 7ms/step - loss: 1.1265 - accuracy: 0.4726 - val_loss: 1.0384 - val_accuracy: 0.5179\n",
      "Epoch 51/100\n",
      "45/45 [==============================] - 0s 8ms/step - loss: 1.1224 - accuracy: 0.4682 - val_loss: 1.1112 - val_accuracy: 0.4420\n",
      "Epoch 52/100\n",
      "45/45 [==============================] - 0s 5ms/step - loss: 1.1212 - accuracy: 0.4804 - val_loss: 1.0242 - val_accuracy: 0.5000\n",
      "Epoch 53/100\n",
      "45/45 [==============================] - 0s 5ms/step - loss: 1.1183 - accuracy: 0.4682 - val_loss: 1.0494 - val_accuracy: 0.5089\n",
      "Epoch 54/100\n",
      "45/45 [==============================] - 0s 5ms/step - loss: 1.1236 - accuracy: 0.4726 - val_loss: 1.0035 - val_accuracy: 0.5179\n",
      "Epoch 55/100\n",
      "45/45 [==============================] - 0s 5ms/step - loss: 1.1227 - accuracy: 0.4771 - val_loss: 0.9972 - val_accuracy: 0.5179\n",
      "Epoch 56/100\n",
      "45/45 [==============================] - 0s 5ms/step - loss: 1.1132 - accuracy: 0.4816 - val_loss: 0.9822 - val_accuracy: 0.5045\n",
      "Epoch 57/100\n",
      "45/45 [==============================] - 0s 5ms/step - loss: 1.1185 - accuracy: 0.4693 - val_loss: 0.9890 - val_accuracy: 0.5268\n",
      "Epoch 58/100\n",
      "45/45 [==============================] - 0s 7ms/step - loss: 1.1125 - accuracy: 0.4927 - val_loss: 0.9890 - val_accuracy: 0.5536\n",
      "Epoch 59/100\n",
      "45/45 [==============================] - 0s 6ms/step - loss: 1.1177 - accuracy: 0.4827 - val_loss: 1.0019 - val_accuracy: 0.5312\n",
      "Epoch 60/100\n",
      "45/45 [==============================] - 0s 6ms/step - loss: 1.1252 - accuracy: 0.4693 - val_loss: 1.1326 - val_accuracy: 0.4330\n",
      "Epoch 61/100\n",
      "45/45 [==============================] - 0s 6ms/step - loss: 1.1175 - accuracy: 0.4693 - val_loss: 1.0353 - val_accuracy: 0.5179\n",
      "Epoch 62/100\n",
      "45/45 [==============================] - 0s 5ms/step - loss: 1.1108 - accuracy: 0.4939 - val_loss: 1.0512 - val_accuracy: 0.5089\n",
      "Epoch 63/100\n",
      "45/45 [==============================] - 0s 6ms/step - loss: 1.1176 - accuracy: 0.4883 - val_loss: 1.0155 - val_accuracy: 0.5223\n",
      "Epoch 64/100\n",
      "45/45 [==============================] - 0s 6ms/step - loss: 1.1132 - accuracy: 0.4872 - val_loss: 0.9915 - val_accuracy: 0.5089\n",
      "Epoch 65/100\n",
      "45/45 [==============================] - 0s 4ms/step - loss: 1.1157 - accuracy: 0.4793 - val_loss: 0.9893 - val_accuracy: 0.5357\n",
      "Epoch 66/100\n",
      "45/45 [==============================] - 0s 4ms/step - loss: 1.1146 - accuracy: 0.4838 - val_loss: 0.9835 - val_accuracy: 0.5402\n",
      "Epoch 67/100\n",
      "45/45 [==============================] - 0s 6ms/step - loss: 1.1107 - accuracy: 0.4939 - val_loss: 0.9786 - val_accuracy: 0.5491\n",
      "Epoch 68/100\n",
      "45/45 [==============================] - 0s 6ms/step - loss: 1.1158 - accuracy: 0.4749 - val_loss: 1.0133 - val_accuracy: 0.5536\n",
      "Epoch 69/100\n",
      "45/45 [==============================] - 0s 6ms/step - loss: 1.1034 - accuracy: 0.4961 - val_loss: 1.0097 - val_accuracy: 0.5179\n",
      "Epoch 70/100\n",
      "45/45 [==============================] - 0s 5ms/step - loss: 1.1126 - accuracy: 0.4682 - val_loss: 1.0536 - val_accuracy: 0.5179\n",
      "Epoch 71/100\n",
      "45/45 [==============================] - 0s 4ms/step - loss: 1.1161 - accuracy: 0.4860 - val_loss: 0.9739 - val_accuracy: 0.5446\n",
      "Epoch 72/100\n",
      "45/45 [==============================] - 0s 6ms/step - loss: 1.1064 - accuracy: 0.4838 - val_loss: 1.0325 - val_accuracy: 0.5223\n",
      "Epoch 73/100\n",
      "45/45 [==============================] - 0s 6ms/step - loss: 1.1080 - accuracy: 0.4905 - val_loss: 1.0456 - val_accuracy: 0.5446\n",
      "Epoch 74/100\n",
      "45/45 [==============================] - 0s 5ms/step - loss: 1.1049 - accuracy: 0.4760 - val_loss: 0.9954 - val_accuracy: 0.5536\n",
      "Epoch 75/100\n",
      "45/45 [==============================] - 0s 5ms/step - loss: 1.1022 - accuracy: 0.4849 - val_loss: 0.9858 - val_accuracy: 0.5089\n",
      "Epoch 76/100\n",
      "45/45 [==============================] - 0s 6ms/step - loss: 1.1069 - accuracy: 0.4939 - val_loss: 0.9900 - val_accuracy: 0.5402\n",
      "Epoch 77/100\n",
      "45/45 [==============================] - 0s 6ms/step - loss: 1.1000 - accuracy: 0.4983 - val_loss: 1.0114 - val_accuracy: 0.5357\n",
      "Epoch 78/100\n",
      "45/45 [==============================] - 0s 6ms/step - loss: 1.1011 - accuracy: 0.4816 - val_loss: 1.0062 - val_accuracy: 0.5223\n",
      "Epoch 79/100\n",
      "45/45 [==============================] - 0s 5ms/step - loss: 1.1007 - accuracy: 0.4905 - val_loss: 0.9957 - val_accuracy: 0.5223\n",
      "Epoch 80/100\n",
      "45/45 [==============================] - 0s 5ms/step - loss: 1.1002 - accuracy: 0.4905 - val_loss: 0.9858 - val_accuracy: 0.5179\n",
      "Epoch 81/100\n",
      "45/45 [==============================] - 0s 6ms/step - loss: 1.1022 - accuracy: 0.4905 - val_loss: 1.0086 - val_accuracy: 0.5223\n",
      "Epoch 82/100\n",
      "45/45 [==============================] - 0s 5ms/step - loss: 1.0962 - accuracy: 0.5128 - val_loss: 1.0114 - val_accuracy: 0.5179\n",
      "Epoch 83/100\n",
      "45/45 [==============================] - 0s 5ms/step - loss: 1.0998 - accuracy: 0.4816 - val_loss: 1.0241 - val_accuracy: 0.5134\n",
      "Epoch 84/100\n",
      "45/45 [==============================] - 0s 5ms/step - loss: 1.1047 - accuracy: 0.4726 - val_loss: 1.0135 - val_accuracy: 0.5357\n",
      "Epoch 85/100\n",
      "45/45 [==============================] - 0s 6ms/step - loss: 1.0968 - accuracy: 0.4950 - val_loss: 0.9939 - val_accuracy: 0.5268\n",
      "Epoch 86/100\n",
      "45/45 [==============================] - 0s 4ms/step - loss: 1.1020 - accuracy: 0.4972 - val_loss: 0.9999 - val_accuracy: 0.5402\n",
      "Epoch 87/100\n",
      "45/45 [==============================] - 0s 5ms/step - loss: 1.0982 - accuracy: 0.4883 - val_loss: 1.0376 - val_accuracy: 0.5402\n",
      "Epoch 88/100\n",
      "45/45 [==============================] - 0s 5ms/step - loss: 1.1051 - accuracy: 0.4749 - val_loss: 1.2647 - val_accuracy: 0.3661\n",
      "Epoch 89/100\n",
      "45/45 [==============================] - 0s 6ms/step - loss: 1.0945 - accuracy: 0.4905 - val_loss: 0.9891 - val_accuracy: 0.5536\n",
      "Epoch 90/100\n",
      "45/45 [==============================] - 0s 6ms/step - loss: 1.0967 - accuracy: 0.4950 - val_loss: 1.0120 - val_accuracy: 0.5357\n",
      "Epoch 91/100\n",
      "45/45 [==============================] - 0s 6ms/step - loss: 1.0994 - accuracy: 0.5017 - val_loss: 0.9755 - val_accuracy: 0.5312\n",
      "Epoch 92/100\n",
      "45/45 [==============================] - 0s 5ms/step - loss: 1.0978 - accuracy: 0.5095 - val_loss: 0.9897 - val_accuracy: 0.5179\n",
      "Epoch 93/100\n",
      "45/45 [==============================] - 0s 5ms/step - loss: 1.0950 - accuracy: 0.5039 - val_loss: 0.9966 - val_accuracy: 0.5268\n",
      "Epoch 94/100\n",
      "45/45 [==============================] - 0s 6ms/step - loss: 1.0925 - accuracy: 0.4916 - val_loss: 1.0226 - val_accuracy: 0.5357\n",
      "Epoch 95/100\n",
      "45/45 [==============================] - 0s 6ms/step - loss: 1.0919 - accuracy: 0.4961 - val_loss: 0.9886 - val_accuracy: 0.5179\n",
      "Epoch 96/100\n",
      "45/45 [==============================] - 0s 5ms/step - loss: 1.0979 - accuracy: 0.4894 - val_loss: 1.0120 - val_accuracy: 0.5268\n",
      "Epoch 97/100\n",
      "45/45 [==============================] - 0s 4ms/step - loss: 1.0981 - accuracy: 0.4983 - val_loss: 1.0262 - val_accuracy: 0.5223\n",
      "Epoch 98/100\n",
      "45/45 [==============================] - 0s 5ms/step - loss: 1.0939 - accuracy: 0.4883 - val_loss: 1.0210 - val_accuracy: 0.5402\n",
      "Epoch 99/100\n",
      "45/45 [==============================] - 0s 5ms/step - loss: 1.0967 - accuracy: 0.4894 - val_loss: 1.0061 - val_accuracy: 0.5179\n",
      "Epoch 100/100\n",
      "45/45 [==============================] - 0s 5ms/step - loss: 1.0934 - accuracy: 0.5006 - val_loss: 0.9706 - val_accuracy: 0.5536\n"
     ]
    },
    {
     "data": {
      "text/plain": [
       "<keras.src.callbacks.History at 0x21e6e1a6ca0>"
      ]
     },
     "execution_count": 47,
     "metadata": {},
     "output_type": "execute_result"
    }
   ],
   "source": [
    "# Compile the model\n",
    "model_class.compile(loss=\"categorical_crossentropy\", metrics=[\"accuracy\"], optimizer=\"sgd\")\n",
    "\n",
    "# Fit the model\n",
    "model_class.fit(x=Xc_train, y=yc_train, batch_size=20, epochs=100, validation_data=(Xc_val, yc_val))"
   ]
  },
  {
   "cell_type": "code",
   "execution_count": 48,
   "id": "7643930a",
   "metadata": {},
   "outputs": [
    {
     "name": "stdout",
     "output_type": "stream",
     "text": [
      "model saved!!!\n"
     ]
    }
   ],
   "source": [
    "model_class.save(\"model_class.h5\") #using h5 extension\n",
    "print(\"model saved!!!\")"
   ]
  },
  {
   "cell_type": "code",
   "execution_count": 49,
   "id": "79bec36b",
   "metadata": {},
   "outputs": [],
   "source": [
    "model_cl = load_model('model_class.h5')"
   ]
  },
  {
   "cell_type": "code",
   "execution_count": 50,
   "id": "28a12905",
   "metadata": {},
   "outputs": [
    {
     "name": "stdout",
     "output_type": "stream",
     "text": [
      "[1.0757945775985718, 0.5005586743354797]\n"
     ]
    }
   ],
   "source": [
    "# calculate score of training data\n",
    "score = model_cl.evaluate(Xc_train, yc_train, verbose=0)\n",
    "print(score)"
   ]
  },
  {
   "cell_type": "code",
   "execution_count": 51,
   "id": "6198f222",
   "metadata": {},
   "outputs": [
    {
     "name": "stdout",
     "output_type": "stream",
     "text": [
      "[1.082662582397461, 0.5166666507720947]\n"
     ]
    }
   ],
   "source": [
    "score_t = model_cl.evaluate(Xc_test, yc_test, verbose=0)\n",
    "print( score_t)"
   ]
  },
  {
   "cell_type": "code",
   "execution_count": 52,
   "id": "2ddeac1d",
   "metadata": {},
   "outputs": [
    {
     "name": "stdout",
     "output_type": "stream",
     "text": [
      "Model: \"sequential_1\"\n",
      "_________________________________________________________________\n",
      " Layer (type)                Output Shape              Param #   \n",
      "=================================================================\n",
      " dense_1 (Dense)             (None, 11)                132       \n",
      "                                                                 \n",
      " dense_2 (Dense)             (None, 8)                 96        \n",
      "                                                                 \n",
      " dense_3 (Dense)             (None, 8)                 72        \n",
      "                                                                 \n",
      "=================================================================\n",
      "Total params: 300 (1.17 KB)\n",
      "Trainable params: 300 (1.17 KB)\n",
      "Non-trainable params: 0 (0.00 Byte)\n",
      "_________________________________________________________________\n"
     ]
    }
   ],
   "source": [
    "model_cl.summary()"
   ]
  },
  {
   "cell_type": "markdown",
   "id": "4a7e2b28",
   "metadata": {},
   "source": [
    "we can observe the following insights about the performance of the original and new models:\n",
    "\n",
    "Test Loss:\n",
    "\n",
    "Original Model: Test Loss = 0.3959\n",
    "New Model: Test Loss = 0.4961\n",
    "Insight: The original model has a lower test loss compared to the new model. This indicates that the original model is better at making more accurate predictions on unseen data. A lower test loss indicates better performance in regression tasks.\n",
    "\n",
    "Test Mean Absolute Error (MAE):\n",
    "\n",
    "Original Model: Test MAE = 0.4792\n",
    "New Model: Test MAE = 0.4939\n",
    "Insight: The original model has a slightly lower test MAE compared to the new model. MAE represents the average absolute difference between the predicted and actual values. A lower MAE implies better accuracy in predictions.\n",
    "\n",
    "Performance Comparison:\n",
    "\n",
    "The original model outperforms the new model in terms of both test loss and test MAE.\n",
    "The difference in performance between the two models is relatively small, indicating that the new model is not significantly worse than the original model.\n",
    "Model Complexity:\n",
    "\n",
    "The new model introduced dropout layers, which are a form of regularization aimed at preventing overfitting. It also used the L2 regularization technique.\n",
    "The original model does not have these regularization techniques.\n",
    "Overfitting:\n",
    "\n",
    "While dropout and L2 regularization were introduced in the new model to mitigate overfitting, the performance difference suggests that the original model might not be overfitting significantly on the given dataset.\n",
    "Further Exploration:\n",
    "\n",
    "The difference in performance between the two models suggests that further fine-tuning and experimentation with hyperparameters might be beneficial.\n",
    "Overall, both models seem to be performing well on the given task, but the original model has a slight edge in terms of accuracy (lower test loss and MAE)."
   ]
  }
 ],
 "metadata": {
  "kernelspec": {
   "display_name": "Python 3 (ipykernel)",
   "language": "python",
   "name": "python3"
  },
  "language_info": {
   "codemirror_mode": {
    "name": "ipython",
    "version": 3
   },
   "file_extension": ".py",
   "mimetype": "text/x-python",
   "name": "python",
   "nbconvert_exporter": "python",
   "pygments_lexer": "ipython3",
   "version": "3.9.7"
  }
 },
 "nbformat": 4,
 "nbformat_minor": 5
}
